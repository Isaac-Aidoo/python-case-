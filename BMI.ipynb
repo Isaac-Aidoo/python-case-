{
 "cells": [
  {
   "cell_type": "code",
   "execution_count": 12,
   "id": "b0dbd44c",
   "metadata": {},
   "outputs": [],
   "source": [
    "# BMI CALCULATOR: is Body Mass Index\n",
    "Name1 = \"Dan\"\n",
    "height_m1 = 1.52\n",
    "weight_kg1 = 70\n",
    "\n",
    "Name2 = \"Mich\"\n",
    "height_m2 = 1.73\n",
    "weight_kg2 = 75\n",
    "\n",
    "Name3 = \"Sam\"\n",
    "height_m3 = 1.8\n",
    "weight_kg3 = 80\n"
   ]
  },
  {
   "cell_type": "code",
   "execution_count": 18,
   "id": "b044c518",
   "metadata": {},
   "outputs": [],
   "source": [
    "def BMI_calculator(Name, height_m, weight_kg):\n",
    "    BMI = weight_kg / (height_m ** 2)\n",
    "    print(\"BMI: \")\n",
    "    print(BMI)\n",
    "    if BMI < 25:\n",
    "        return Name + \" not overweight\"\n",
    "    else:\n",
    "        return Name + \" is overweight\""
   ]
  },
  {
   "cell_type": "code",
   "execution_count": 19,
   "id": "57ac8399",
   "metadata": {},
   "outputs": [
    {
     "name": "stdout",
     "output_type": "stream",
     "text": [
      "BMI: \n",
      "30.297783933518005\n",
      "BMI: \n",
      "25.05930702662969\n",
      "BMI: \n",
      "24.691358024691358\n"
     ]
    }
   ],
   "source": [
    "result1 = BMI_calculator(Name1, height_m1, weight_kg1)\n",
    "result2 = BMI_calculator(Name2, height_m2, weight_kg2)\n",
    "result3 = BMI_calculator(Name3, height_m3, weight_kg3)"
   ]
  },
  {
   "cell_type": "code",
   "execution_count": 20,
   "id": "578b7758",
   "metadata": {},
   "outputs": [
    {
     "name": "stdout",
     "output_type": "stream",
     "text": [
      "Dan is overweight\n",
      "Mich is overweight\n",
      "Sam not overweight\n"
     ]
    }
   ],
   "source": [
    "print(result1)\n",
    "print(result2)\n",
    "print(result3)"
   ]
  },
  {
   "cell_type": "code",
   "execution_count": null,
   "id": "f2be27f6",
   "metadata": {},
   "outputs": [],
   "source": []
  }
 ],
 "metadata": {
  "kernelspec": {
   "display_name": "Python 3 (ipykernel)",
   "language": "python",
   "name": "python3"
  },
  "language_info": {
   "codemirror_mode": {
    "name": "ipython",
    "version": 3
   },
   "file_extension": ".py",
   "mimetype": "text/x-python",
   "name": "python",
   "nbconvert_exporter": "python",
   "pygments_lexer": "ipython3",
   "version": "3.10.9"
  }
 },
 "nbformat": 4,
 "nbformat_minor": 5
}
